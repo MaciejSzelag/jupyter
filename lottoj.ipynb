{
 "cells": [
  {
   "cell_type": "code",
   "execution_count": null,
   "id": "3531c603",
   "metadata": {
    "vscode": {
     "languageId": "plaintext"
    }
   },
   "outputs": [],
   "source": [
    "import random\n",
    "import os\n",
    "\n",
    "range_start = 1\n",
    "range_stop = 50\n",
    "range_end = range_stop - 1\n",
    "range_n = 6\n",
    "\n",
    "def clear_console():\n",
    "    \"\"\"Czyści konsolę w zależności od systemu operacyjnego\"\"\"\n",
    "    os.system('cls' if os.name == 'nt' else 'clear') \n",
    "\n",
    "\n",
    "def game():\n",
    "    play_again = \"y\"\n",
    "    while play_again.lower() == \"y\":\n",
    "        # Randomly drawn numbers - sample() ensures numbers are unique\n",
    "        random_numbers = random.sample(range(range_start, range_stop), range_n) \n",
    "        # Numbers chosen by the user\n",
    "        numbers_input = input(f\"Choose {range_n} numbers between {range_start} and {range_end} separated by spaces:\\n\") \n",
    "        # Converts elements from numbers (strings) to integers and creates a list\n",
    "        numbers_to_int = [int(x) for x in numbers_input.split()] \n",
    "        # Display drawn random numbers\n",
    "        print(f\"Drawn numbers:\\n{random_numbers}\\n\") \n",
    "        \n",
    "        # Creates a list of \"hit\" numbers – i.e. numbers that are in both lists: numbers_int and random_numbers  \n",
    "        hit_numbers = [n for n in numbers_to_int if n in random_numbers] \n",
    "        # Creates a list of numbers that are greater than the allowed range (range_end)\n",
    "        number_too_big = [x for x in numbers_to_int if x > range_end]\n",
    "\n",
    "        if number_too_big:\n",
    "            print(\"One of the number is above 49\")\n",
    "        else:\n",
    "            #print(\"wszystko jest ok\")\n",
    "            # Check the amount of entered numbers in the input\n",
    "            if  len(numbers_to_int) > range_n:\n",
    "                print(f\"Too many numbers!\\nYou entered {len(numbers_to_int) }, there should be {range_n}.\")\n",
    "            \n",
    "            elif  len(numbers_to_int) < range_n:\n",
    "                print(f\"Too few numbers!\\nYou entered {len(numbers_to_int) }, there should be {range_n}.\")\n",
    "        \n",
    "            else:\n",
    "                # print(f\"Thank you! Your numbers:\\n{numbers_input.replace(\" \",\",\")}\")\n",
    "                # Creates a copy of the list random_numbers into a separate variable random_int\n",
    "                random_int = random_numbers.copy()\n",
    "                if hit_numbers == random_int:\n",
    "                    print(\"you WON, you hit the same numbers :\", hit_numbers)\n",
    "                elif hit_numbers:\n",
    "                    print(f\"you just hit {len(hit_numbers)} no. -> \", hit_numbers)\n",
    "                else:\n",
    "                    print(\"unfortunately, you didn't hit anything\")   \n",
    "\n",
    "        play_again = input(\"Do you want play again?\\n(y/n)\\n\")\n",
    "\n",
    "        if play_again.lower() == \"y\":\n",
    "           clear_console()\n",
    "\n",
    "    print(\"Thanks for playing\")\n",
    "\n",
    "game()\n"
   ]
  }
 ],
 "metadata": {
  "language_info": {
   "name": "python"
  }
 },
 "nbformat": 4,
 "nbformat_minor": 5
}
