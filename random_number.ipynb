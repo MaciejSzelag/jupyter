{
 "cells": [
  {
   "cell_type": "code",
   "execution_count": null,
   "id": "4a746110",
   "metadata": {},
   "outputs": [],
   "source": [
    "import random \n",
    "\n",
    "name = input(\"What is your name?\\n\")\n",
    "number_range_start = 1\n",
    "number_range_end = 49\n",
    "number_range = 6\n",
    "\n",
    "def start_game():\n",
    "    play_again = \"y\"\n",
    "    while play_again.lower() == \"y\":    \n",
    "        random_numbers = [random.randint(number_range_start, number_range_end) for _ in range(number_range)] # wybiera losowe numery midzy 1 a 49, petla w zakresie 6 w  tablicy\n",
    "\n",
    "        # Zabezpieczenie przed błędnymi danymi\n",
    "        try:\n",
    "            y_number = int(input(f\"{name} choose a random number between {number_range_start} a {number_range_end}\\n\"))\n",
    "        except ValueError:\n",
    "            print(\"Please enter valid number\")\n",
    "            continue\n",
    "\n",
    "        # Sprawdź czy liczba jest w zakresie 1-49\n",
    "        if y_number < number_range_start or y_number > number_range_end:\n",
    "            print(f\"Your number is {y_number}. Please choose a number between {number_range_start} and {number_range_end}\\nTry again\")\n",
    "       \n",
    "        elif y_number in random_numbers:\n",
    "            print(f\"{name}, you won!\\nNumbers are {random_numbers} and your number is {y_number}.\")\n",
    "        else:   \n",
    "            print(f\"{name}, you lost: your number is {y_number}.\\nNumbers are {random_numbers}.\")    \n",
    "\n",
    "        play_again = input(f\"{name}, do you want play again?\\n(y/n)\\n\")\n",
    "\n",
    "    print(f\"{name} thanks for playing\")\n",
    "\n",
    "start_game()"
   ]
  }
 ],
 "metadata": {
  "language_info": {
   "name": "python"
  }
 },
 "nbformat": 4,
 "nbformat_minor": 5
}
